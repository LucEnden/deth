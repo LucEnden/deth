{
 "cells": [
  {
   "cell_type": "code",
   "execution_count": null,
   "metadata": {},
   "outputs": [],
   "source": [
    "import os\n",
    "\n",
    "notebook_path = os.path.abspath('./')\n",
    "notebooks = [\n",
    "    i for i in os.listdir(notebook_path)\n",
    "    if i.endswith('.ipynb') and not i.startswith('used_imports')\n",
    "]"
   ]
  },
  {
   "cell_type": "code",
   "execution_count": 33,
   "metadata": {},
   "outputs": [
    {
     "name": "stdout",
     "output_type": "stream",
     "text": [
      "1\tos\n",
      "2\tgymnasium\n",
      "3\trandom\n",
      "4\tlogging\n",
      "5\tsklearn\n",
      "6\tcollections\n",
      "7\tmath\n",
      "8\ttime\n",
      "9\tpandas\n",
      "10\tsys\n",
      "11\tpoke_battle_sim\n",
      "12\tuuid\n",
      "13\tservices\n",
      "14\ttyping\n",
      "15\tjson\n",
      "16\tre\n",
      "17\tnumpy\n",
      "18\tpoke_env\n",
      "19\tstable_baselines3\n",
      "20\tabc\n"
     ]
    }
   ],
   "source": [
    "import json\n",
    "\n",
    "all_imports = set()\n",
    "\n",
    "for notebook in notebooks:\n",
    "    with open(os.path.join(notebook_path, notebook), 'r', encoding='utf-8') as f:\n",
    "        nb_data = json.load(f)\n",
    "\n",
    "    for cell in nb_data['cells']:\n",
    "        if cell['cell_type'] == 'code':\n",
    "            for line in cell['source']:\n",
    "                if line.startswith('import ') or line.startswith('from '):\n",
    "                    parsed = str(line.strip())\n",
    "                    if parsed.startswith('from '):\n",
    "                        parsed = parsed.split(' ')[1]\n",
    "                        if parsed.count('.') > 0:\n",
    "                            parsed = parsed.split('.')[0]\n",
    "                    if parsed.startswith('import '):\n",
    "                        parsed = parsed.split(' ')[1]\n",
    "\n",
    "                    all_imports.add(parsed)\n",
    "\n",
    "for i, imp in enumerate(list(all_imports)):\n",
    "    print(f\"{i + 1}\\t{imp}\")"
   ]
  },
  {
   "cell_type": "code",
   "execution_count": 35,
   "metadata": {},
   "outputs": [
    {
     "name": "stdout",
     "output_type": "stream",
     "text": [
      "1\thttps://keras.io/examples/rl/\n",
      "2\thttps://pytorch.org/\n",
      "3\thttps://stable-baselines3.readthedocs.io/en/master/\n",
      "4\thttps://gymnasium.farama.org/\n",
      "5\thttps://pymdptoolbox.readthedocs.io/en/latest/\n",
      "6\thttps://github.com/infer-actively/pymdp\n",
      "7\thttps://github.com/KeeyanGhoreshi/PlatinumSimulator\n",
      "8\thttps://github.com/hsahovic/poke-env\n"
     ]
    }
   ],
   "source": [
    "srcs = [\n",
    "    \"https://keras.io/examples/rl/\",\n",
    "    \"https://pytorch.org/\",\n",
    "    \"https://stable-baselines3.readthedocs.io/en/master/\",\n",
    "    \"https://gymnasium.farama.org/\",\n",
    "    \"https://pymdptoolbox.readthedocs.io/en/latest/\",\n",
    "    \"https://github.com/infer-actively/pymdp\",\n",
    "    \"https://github.com/KeeyanGhoreshi/PlatinumSimulator\",\n",
    "    \"https://github.com/hsahovic/poke-env\",\n",
    "]\n",
    "\n",
    "for i, src in enumerate(srcs):\n",
    "    print(f\"{i + 1}\\t{src}\")"
   ]
  }
 ],
 "metadata": {
  "kernelspec": {
   "display_name": "deth",
   "language": "python",
   "name": "python3"
  },
  "language_info": {
   "codemirror_mode": {
    "name": "ipython",
    "version": 3
   },
   "file_extension": ".py",
   "mimetype": "text/x-python",
   "name": "python",
   "nbconvert_exporter": "python",
   "pygments_lexer": "ipython3",
   "version": "3.12.3"
  }
 },
 "nbformat": 4,
 "nbformat_minor": 2
}
