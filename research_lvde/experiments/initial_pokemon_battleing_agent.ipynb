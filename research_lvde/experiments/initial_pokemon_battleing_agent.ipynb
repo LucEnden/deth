{
 "cells": [
  {
   "cell_type": "markdown",
   "metadata": {},
   "source": [
    "## Experiment Goal\n",
    "\n",
    "The goal of this experiment is to setup very minimalistic implementation of a battleing agent. This wil then function as a starting point for further development."
   ]
  },
  {
   "cell_type": "markdown",
   "metadata": {},
   "source": [
    "## State Space\n",
    "\n",
    "TODO: describe the small state space inspired by the first rival battle in the game.\n",
    "- The agent and the NPC have 1 pokemon each\n",
    "- The pokemons are as they would be during the first battle, i.e.\n",
    "    - They have 2 moves\n",
    "    - They have random IVs each time\n",
    "    - They have 0 EVs\n",
    "    - Their base stats are as they would be at level 5\n",
    "- Both the agent and NPC wont have any items"
   ]
  },
  {
   "cell_type": "code",
   "execution_count": 1,
   "metadata": {},
   "outputs": [],
   "source": [
    "import random"
   ]
  },
  {
   "cell_type": "code",
   "execution_count": null,
   "metadata": {},
   "outputs": [],
   "source": [
    "def generate_random_ivs():\n",
    "    # https://bulbapedia.bulbagarden.net/wiki/Individual_values#Generation_III_onwards\n",
    "    return [random.randint(0, 31) for _ in range(6)]\n",
    "\n",
    "\n",
    "def generate_random_evs():\n",
    "    # https://bulbapedia.bulbagarden.net/wiki/Effort_values#Generation_IV\n",
    "    evs = [random.randint(0, 255) for _ in range(6)]\n",
    "    # - total evs cannot exceed 510\n",
    "    if sum(evs) > 510:\n",
    "        evs[random.randint(0, 5)] -= sum(evs) - 510\n",
    "\n",
    "\n",
    "def generate_random_stats(\n",
    "    base_stats: list[int],\n",
    "    ivs: list[int],\n",
    "    evs: list[int],\n",
    "    level: int,\n",
    "    nature: list[int]\n",
    "):\n",
    "    # TODO add parameter gaurds\n",
    "    # - base stats, evs and ivs len 6 and all ints\n",
    "    # - 1 <= level <= 100 \n",
    "    # - nature len 5 and all int\n",
    "    stats = []\n",
    "\n",
    "    # HP\n",
    "    stats.append((2 * base_stats[i] + ivs[i] +\n",
    "                 evs[i] // 4) * level // 100 + level + 10)\n",
    "\n",
    "    # Others\n",
    "    for i in range(1, 6):\n",
    "        stats.append((2 * base_stats[i] + ivs[i] +\n",
    "                     evs[i] // 4) * level // 100 + 5) * nature[i-1]\n",
    "\n",
    "    return stats\n",
    "\n",
    "# TODO write unit tests for these functions"
   ]
  },
  {
   "cell_type": "code",
   "execution_count": 9,
   "metadata": {},
   "outputs": [
    {
     "data": {
      "text/plain": [
       "[0, 0, 0, 0, 0]"
      ]
     },
     "execution_count": 9,
     "metadata": {},
     "output_type": "execute_result"
    }
   ],
   "source": [
    "# file:///D:/Users/luc/Documents/GitHub/deth/research_lvde/tex/out/main.pdf#page=16\n",
    "natures = [\n",
    "    [ 0, 0, 0, 0, 0 ]\n",
    "]\n",
    "\n",
    "def generate_random_nature():\n",
    "    return random.choice(natures)\n",
    "\n",
    "generate_random_nature()"
   ]
  },
  {
   "cell_type": "code",
   "execution_count": null,
   "metadata": {},
   "outputs": [],
   "source": [
    "abilities = [\n",
    "    # (\"overgrow\", lambda p, m: m.power * 1.5 if p[0] )\n",
    "]"
   ]
  },
  {
   "cell_type": "code",
   "execution_count": null,
   "metadata": {},
   "outputs": [],
   "source": [
    "# file:///D:/Users/luc/Documents/GitHub/deth/research_lvde/tex/out/main.pdf#page=16\n",
    "\n",
    "#  (hp, atk, def, spatk, spdef, spd, ability, nature, t1, t2, m1, m2, m3, m4, status)"
   ]
  },
  {
   "cell_type": "code",
   "execution_count": null,
   "metadata": {},
   "outputs": [],
   "source": [
    "lvl = 5\n",
    "turtwig_stats = generate_random_stats(\n",
    "    base_stats=[55, 68, 64, 45, 55, 31],\n",
    "    ivs=generate_random_ivs(),\n",
    "    evs=[0, 0, 0, 0, 0, 0],\n",
    "    level=lvl,\n",
    "    nature=generate_random_nature()\n",
    ")\n",
    "turtwig = (\n",
    "    turtwig_stats[0],\n",
    "    turtwig_stats[1],\n",
    "    turtwig_stats[2],\n",
    "    turtwig_stats[3],\n",
    "    turtwig_stats[4],\n",
    "    turtwig_stats[5],\n",
    "    \n",
    ")"
   ]
  },
  {
   "cell_type": "markdown",
   "metadata": {},
   "source": [
    "## Adding items to the state"
   ]
  },
  {
   "cell_type": "code",
   "execution_count": null,
   "metadata": {},
   "outputs": [],
   "source": [
    "# file:///D:/Users/luc/Documents/GitHub/deth/research_lvde/tex/out/main.pdf#page=16\n",
    "potion = (\"potion\", lambda p: p.hp + 20, \"healing\")\n",
    "full_heal = (\"full_heal\", lambda p: p.hp_max, \"healing\")"
   ]
  },
  {
   "cell_type": "code",
   "execution_count": null,
   "metadata": {},
   "outputs": [],
   "source": [
    "# file:///D:/Users/luc/Documents/GitHub/deth/research_lvde/tex/out/main.pdf#page=16\n",
    "bag = set([(potion, 1), (full_heal, 1)])"
   ]
  }
 ],
 "metadata": {
  "kernelspec": {
   "display_name": "base",
   "language": "python",
   "name": "python3"
  },
  "language_info": {
   "codemirror_mode": {
    "name": "ipython",
    "version": 3
   },
   "file_extension": ".py",
   "mimetype": "text/x-python",
   "name": "python",
   "nbconvert_exporter": "python",
   "pygments_lexer": "ipython3",
   "version": "3.11.5"
  }
 },
 "nbformat": 4,
 "nbformat_minor": 2
}
