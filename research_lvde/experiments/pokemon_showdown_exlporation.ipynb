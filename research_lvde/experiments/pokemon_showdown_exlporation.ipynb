{
 "cells": [
  {
   "cell_type": "code",
   "execution_count": 1,
   "metadata": {},
   "outputs": [],
   "source": [
    "import numpy as np\n",
    "from gymnasium.spaces import Space, Box\n",
    "from poke_env.player import Gen8EnvSinglePlayer\n",
    "from poke_env.environment.battle import AbstractBattle\n",
    "from poke_env.data import GenData\n",
    "from poke_env.ps_client.account_configuration import AccountConfiguration\n",
    "import uuid\n",
    "\n",
    "\n",
    "class SimpleRLPlayer(Gen8EnvSinglePlayer):\n",
    "    def calc_reward(self, last_battle, current_battle) -> float:\n",
    "        return self.reward_computing_helper(\n",
    "            current_battle, fainted_value=2.0, hp_value=1.0, victory_value=30.0\n",
    "        )\n",
    "\n",
    "    def embed_battle(self, battle: AbstractBattle):\n",
    "        # -1 indicates that the move does not have a base power\n",
    "        # or is not available\n",
    "        moves_base_power = -np.ones(4)\n",
    "        moves_dmg_multiplier = np.ones(4)\n",
    "        for i, move in enumerate(battle.available_moves):\n",
    "            moves_base_power[i] = (\n",
    "                move.base_power / 100\n",
    "            )  # Simple rescaling to facilitate learning\n",
    "            if move.type:\n",
    "                moves_dmg_multiplier[i] = move.type.damage_multiplier(\n",
    "                    battle.opponent_active_pokemon.type_1,\n",
    "                    battle.opponent_active_pokemon.type_2,\n",
    "                    type_chart=GenData.from_gen(8).type_chart\n",
    "                )\n",
    "\n",
    "        # We count how many pokemons have fainted in each team\n",
    "        fainted_mon_team = len([mon for mon in battle.team.values() if mon.fainted]) / 6\n",
    "        fainted_mon_opponent = (\n",
    "            len([mon for mon in battle.opponent_team.values() if mon.fainted]) / 6\n",
    "        )\n",
    "\n",
    "        # Final vector with 10 components\n",
    "        final_vector = np.concatenate(\n",
    "            [\n",
    "                moves_base_power,\n",
    "                moves_dmg_multiplier,\n",
    "                [fainted_mon_team, fainted_mon_opponent],\n",
    "            ]\n",
    "        )\n",
    "        return np.float32(final_vector)\n",
    "\n",
    "    def describe_embedding(self) -> Space:\n",
    "        low = [-1, -1, -1, -1, 0, 0, 0, 0, 0, 0]\n",
    "        high = [3, 3, 3, 3, 4, 4, 4, 4, 1, 1]\n",
    "        return Box(\n",
    "            np.array(low, dtype=np.float32),\n",
    "            np.array(high, dtype=np.float32),\n",
    "            dtype=np.float32,\n",
    "        )"
   ]
  },
  {
   "cell_type": "code",
   "execution_count": 2,
   "metadata": {},
   "outputs": [],
   "source": [
    "def get_unique_account():\n",
    "    username = str(uuid.uuid4()).replace('-', '')[0:18]\n",
    "    print(f'Generated username: {username} ({len(username)})')\n",
    "\n",
    "    return AccountConfiguration(\n",
    "        username=username,\n",
    "        password='some-very-secure-password'\n",
    "    )"
   ]
  },
  {
   "cell_type": "code",
   "execution_count": 6,
   "metadata": {},
   "outputs": [
    {
     "name": "stdout",
     "output_type": "stream",
     "text": [
      "Generated username: b76f4d1d6f2e4123bf (18)\n",
      "Generated username: 16c3c3e7124d4f7aaf (18)\n"
     ]
    }
   ],
   "source": [
    "from poke_env.player import RandomPlayer\n",
    "\n",
    "opponent = RandomPlayer(\n",
    "    battle_format=\"gen8randombattle\",\n",
    "    account_configuration=get_unique_account()\n",
    ")\n",
    "test_env = SimpleRLPlayer(\n",
    "    battle_format=\"gen8randombattle\", \n",
    "    opponent=opponent,\n",
    "    account_configuration=get_unique_account(),\n",
    "    start_challenging=True\n",
    ")"
   ]
  },
  {
   "cell_type": "code",
   "execution_count": 7,
   "metadata": {},
   "outputs": [
    {
     "data": {
      "text/plain": [
       "(array([-1., -1., -1., -1.,  1.,  1.,  1.,  1.,  0.,  0.], dtype=float32),\n",
       " True)"
      ]
     },
     "execution_count": 7,
     "metadata": {},
     "output_type": "execute_result"
    }
   ],
   "source": [
    "from poke_env.environment.battle import Battle\n",
    "from logging import Logger\n",
    "\n",
    "battle = Battle(\n",
    "    battle_tag = 'AAA',\n",
    "    username = 'BBB',\n",
    "    logger = Logger('CCC', 0),\n",
    "    gen = 8,\n",
    ")\n",
    "embedding = test_env.embed_battle(battle)\n",
    "embedding, test_env.describe_embedding().contains(embedding)"
   ]
  },
  {
   "cell_type": "code",
   "execution_count": 8,
   "metadata": {},
   "outputs": [
    {
     "ename": "AssertionError",
     "evalue": "Deterministic step observations are not equivalent for the same seed and action",
     "output_type": "error",
     "traceback": [
      "\u001b[1;31m---------------------------------------------------------------------------\u001b[0m",
      "\u001b[1;31mAssertionError\u001b[0m                            Traceback (most recent call last)",
      "Cell \u001b[1;32mIn[8], line 4\u001b[0m\n\u001b[0;32m      1\u001b[0m \u001b[38;5;28;01mfrom\u001b[39;00m \u001b[38;5;21;01mgymnasium\u001b[39;00m\u001b[38;5;21;01m.\u001b[39;00m\u001b[38;5;21;01mutils\u001b[39;00m\u001b[38;5;21;01m.\u001b[39;00m\u001b[38;5;21;01menv_checker\u001b[39;00m \u001b[38;5;28;01mimport\u001b[39;00m check_env\n\u001b[0;32m      3\u001b[0m \u001b[38;5;28;01mtry\u001b[39;00m:\n\u001b[1;32m----> 4\u001b[0m     \u001b[43mcheck_env\u001b[49m\u001b[43m(\u001b[49m\u001b[43mtest_env\u001b[49m\u001b[43m,\u001b[49m\u001b[43m \u001b[49m\u001b[43mskip_render_check\u001b[49m\u001b[38;5;241;43m=\u001b[39;49m\u001b[38;5;28;43;01mTrue\u001b[39;49;00m\u001b[43m,\u001b[49m\u001b[43m \u001b[49m\u001b[43mskip_close_check\u001b[49m\u001b[38;5;241;43m=\u001b[39;49m\u001b[38;5;28;43;01mTrue\u001b[39;49;00m\u001b[43m)\u001b[49m\n\u001b[0;32m      5\u001b[0m \u001b[38;5;28;01mexcept\u001b[39;00m \u001b[38;5;167;01mKeyboardInterrupt\u001b[39;00m \u001b[38;5;28;01mas\u001b[39;00m e:\n\u001b[0;32m      6\u001b[0m     \u001b[38;5;28mprint\u001b[39m(\u001b[38;5;124m\"\u001b[39m\u001b[38;5;124mEnv check interrupted\u001b[39m\u001b[38;5;124m\"\u001b[39m)\n",
      "File \u001b[1;32md:\\Users\\luc\\anaconda3\\envs\\deth\\Lib\\site-packages\\gymnasium\\utils\\env_checker.py:420\u001b[0m, in \u001b[0;36mcheck_env\u001b[1;34m(env, warn, skip_render_check, skip_close_check)\u001b[0m\n\u001b[0;32m    417\u001b[0m env_step_passive_checker(env, env\u001b[38;5;241m.\u001b[39maction_space\u001b[38;5;241m.\u001b[39msample())\n\u001b[0;32m    419\u001b[0m \u001b[38;5;66;03m# ==== Check the step method ====\u001b[39;00m\n\u001b[1;32m--> 420\u001b[0m \u001b[43mcheck_step_determinism\u001b[49m\u001b[43m(\u001b[49m\u001b[43menv\u001b[49m\u001b[43m)\u001b[49m\n\u001b[0;32m    422\u001b[0m \u001b[38;5;66;03m# ==== Check the render method and the declared render modes ====\u001b[39;00m\n\u001b[0;32m    423\u001b[0m \u001b[38;5;28;01mif\u001b[39;00m \u001b[38;5;129;01mnot\u001b[39;00m skip_render_check:\n",
      "File \u001b[1;32md:\\Users\\luc\\anaconda3\\envs\\deth\\Lib\\site-packages\\gymnasium\\utils\\env_checker.py:216\u001b[0m, in \u001b[0;36mcheck_step_determinism\u001b[1;34m(env, seed)\u001b[0m\n\u001b[0;32m    209\u001b[0m obs_1, rew_1, term_1, trunc_1, info_1 \u001b[38;5;241m=\u001b[39m env\u001b[38;5;241m.\u001b[39mstep(action)\n\u001b[0;32m    211\u001b[0m \u001b[38;5;28;01massert\u001b[39;00m (\n\u001b[0;32m    212\u001b[0m     env\u001b[38;5;241m.\u001b[39munwrapped\u001b[38;5;241m.\u001b[39m_np_random\u001b[38;5;241m.\u001b[39mbit_generator\u001b[38;5;241m.\u001b[39mstate  \u001b[38;5;66;03m# pyright: ignore [reportOptionalMemberAccess]\u001b[39;00m\n\u001b[0;32m    213\u001b[0m     \u001b[38;5;241m==\u001b[39m seeded_rng\u001b[38;5;241m.\u001b[39mbit_generator\u001b[38;5;241m.\u001b[39mstate\n\u001b[0;32m    214\u001b[0m ), \u001b[38;5;124m\"\u001b[39m\u001b[38;5;124mThe `.np_random` is not properly been updated after step.\u001b[39m\u001b[38;5;124m\"\u001b[39m\n\u001b[1;32m--> 216\u001b[0m \u001b[38;5;28;01massert\u001b[39;00m data_equivalence(\n\u001b[0;32m    217\u001b[0m     obs_0, obs_1\n\u001b[0;32m    218\u001b[0m ), \u001b[38;5;124m\"\u001b[39m\u001b[38;5;124mDeterministic step observations are not equivalent for the same seed and action\u001b[39m\u001b[38;5;124m\"\u001b[39m\n\u001b[0;32m    219\u001b[0m \u001b[38;5;28;01mif\u001b[39;00m \u001b[38;5;129;01mnot\u001b[39;00m data_equivalence(obs_0, obs_1, exact\u001b[38;5;241m=\u001b[39m\u001b[38;5;28;01mTrue\u001b[39;00m):\n\u001b[0;32m    220\u001b[0m     logger\u001b[38;5;241m.\u001b[39mwarn(\n\u001b[0;32m    221\u001b[0m         \u001b[38;5;124m\"\u001b[39m\u001b[38;5;124mStep observations are not equal although similar given the same seed and action\u001b[39m\u001b[38;5;124m\"\u001b[39m\n\u001b[0;32m    222\u001b[0m     )\n",
      "\u001b[1;31mAssertionError\u001b[0m: Deterministic step observations are not equivalent for the same seed and action"
     ]
    }
   ],
   "source": [
    "from gymnasium.utils.env_checker import check_env\n",
    "\n",
    "try:\n",
    "    check_env(test_env, skip_render_check=True, skip_close_check=True)\n",
    "except KeyboardInterrupt as e:\n",
    "    print(\"Env check interrupted\")\n",
    "finally:\n",
    "    test_env.close()"
   ]
  }
 ],
 "metadata": {
  "kernelspec": {
   "display_name": "deth",
   "language": "python",
   "name": "python3"
  },
  "language_info": {
   "codemirror_mode": {
    "name": "ipython",
    "version": 3
   },
   "file_extension": ".py",
   "mimetype": "text/x-python",
   "name": "python",
   "nbconvert_exporter": "python",
   "pygments_lexer": "ipython3",
   "version": "3.12.3"
  }
 },
 "nbformat": 4,
 "nbformat_minor": 2
}
