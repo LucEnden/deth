{
 "cells": [
  {
   "cell_type": "markdown",
   "metadata": {},
   "source": [
    "#### Effectiveness\n",
    "Effectiveness of a move $m$ against a pokémon $p$ is a function $E(m, p) \\in \\{0, 0.5, 1, 2, 4\\}$, where:\n",
    "- The value is dictated by the type chart $C$, which is a 18x18 matrix where $C_{i, j}$ is the effectiveness of type $T_i$ against type $T_j$.\n",
    "  - Here, $i$ is used for row indexing and $j$ for column indexing\n",
    "- The value of effectiveness is compared to both of $p$'s type's and added together.\n",
    "- For example:\n",
    "  - If $p_{t1} = grass$, $p_{t2} = ice$ and $m_t = fire$, then $E(m, p) = C_{m_T, p_{t1}} + C_{m_T, p_{t2}} = C_{2, 5} + C_{2, 6} = 2 + 2 = 4$ \n",
    "\n",
    "![generation 4 type chart](https://img.pokemondb.net/images/typechart-gen2345.png)\n",
    "\n",
    "*Figure N: a visual representation of the generation 4 type chart as provided by [pokemondb.net](https://pokemondb.net/type/old)*"
   ]
  },
  {
   "cell_type": "markdown",
   "metadata": {},
   "source": [
    "## ...\n",
    "\n",
    "TODO: find clever title for this chapter in which I define my state space, action space and reward function\n",
    "\n",
    "### State space\n",
    "\n",
    "...\n",
    "TODO: describe that the state space will be setup based on the information available to a player whilst battleing\n",
    "\n",
    "### Action space\n",
    "\n",
    "...\n",
    "TODO: describe that the action space for battleing agent will be derived from the fundemental action space (see notes)"
   ]
  },
  {
   "cell_type": "markdown",
   "metadata": {},
   "source": [
    "## The battleing agent\n",
    "\n",
    "TODO: work out timo's tip bellow in a proper paragraph \n",
    "for an agent to learn a strategy, it needs to be rewarded for a set of sequential moves (temperal difference learning), otherwise it wont learn a strategy but just the current best thing to do in the state. To win you need to perform a sequence of actions.\n",
    "\n",
    "### Battleing Environment\n",
    "\n",
    "TODO: describe the fact that the environment essentially has 2 states it can be in, one where the model can make choices and one where the battle is taking place and the choice of the model + the opponent are being played out\n",
    "\n",
    "### ..."
   ]
  },
  {
   "cell_type": "markdown",
   "metadata": {},
   "source": [
    "THIS BLOCK CONTAINS A REDUNTANT CHAPTER\n",
    "<!-- ### Overworld Locations for Agent Traversal -->\n",
    "<!-- TODO: write a code block that parcess this file, reads this block, parces the table bellow and for each row: create a markdown cell with the title based on the id and name of the environment + a python cell bellow with some default code -->\n",
    "<!-- Environments cell GUID: 7f1582d2-2e3e-4526-b3a1-ff8cace214bb -->\n",
    "\n",
    "<!-- TODO: descsribe the use of images from bulbapedia pared with the interactive map by William Sullivan to create matrixes representing the 'maze' that the agent needs to traverse in a given point in time -->\n",
    "\n",
    "<!-- The table bellow contains ... TODO: describe what this table contains. -->\n",
    " \n",
    "<!-- | ID   | Name        | Description |\n",
    "|---   |---          |---          |\n",
    "| 0001 | Player Room | Second floor of the players house. Simultainiously, its room the player starts in on a new game. | -->"
   ]
  },
  {
   "cell_type": "markdown",
   "metadata": {},
   "source": [
    "## Sources\n",
    "\n",
    "https://www.youtube.com/watch?v=EqzghgtJ1Is\n",
    "\n",
    "https://www.youtube.com/watch?v=jNMWkD5VsZ8\n",
    "\n",
    "https://web.archive.org/web/20241114035948/https://en.wikipedia.org/wiki/Markov_decision_process\n",
    "\n",
    "https://web.archive.org/web/20241128050046/https://en.wikipedia.org/wiki/Pok%C3%A9mon_(video_game_series)\n",
    "\n",
    "https://pkmnmap4.web.app/\n",
    "\n",
    "http://web.archive.org/web/20241118075715/https://bulbapedia.bulbagarden.net/wiki/Category:Platinum_locations\n",
    "\n",
    "http://web.archive.org/web/20241126192248/https://bulbapedia.bulbagarden.net/wiki/Damage\n",
    "\n",
    "https://github.com/smogon/damage-calc (web version https://calc.pokemonshowdown.com/?gen=4)\n",
    "\n",
    "https://stable-baselines.readthedocs.io/en/master/"
   ]
  }
 ],
 "metadata": {
  "kernelspec": {
   "display_name": "deth",
   "language": "python",
   "name": "python3"
  },
  "language_info": {
   "codemirror_mode": {
    "name": "ipython",
    "version": 3
   },
   "file_extension": ".py",
   "mimetype": "text/x-python",
   "name": "python",
   "nbconvert_exporter": "python",
   "pygments_lexer": "ipython3",
   "version": "3.13.0"
  }
 },
 "nbformat": 4,
 "nbformat_minor": 2
}
