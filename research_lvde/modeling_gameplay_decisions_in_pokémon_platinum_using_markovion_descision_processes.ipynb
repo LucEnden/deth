{
 "cells": [
  {
   "cell_type": "markdown",
   "metadata": {},
   "source": [
    "# Modeling Gameplay Decisions in Pokémon Platinum using Markovion Descision Processes\n",
    "\n",
    "TODO: add title page elements"
   ]
  },
  {
   "cell_type": "markdown",
   "metadata": {},
   "source": [
    "## Abstract\n",
    "\n",
    "TODO: write an abstract\n",
    "\n",
    "## Inspiration for this Study  \n",
    "\n",
    "This study was undertaken as part of my decision theory course. Upon learning that the course would require a combination of applied and theoretical research within the context of decision theory, I was immediately drawn to the idea of creating a Markov decision process capable of playing *Pokémon Platinum*.  \n",
    "\n",
    "The inspiration for this idea came from a video by Keeyan Ghoreshi ([link](https://www.youtube.com/watch?v=jNMWkD5VsZ8)), in which the creator analyzes how the game generates random numbers to predict every possible outcome among the 4,294,967,296 potential ways the game could unfold. By doing so, Ghoreshi identifies a deterministic sequence of inputs that will always beat the game. This approach, however, relies heavily on an in-depth understanding of the game's internal mechanics.  \n",
    "\n",
    "In contrast, my approach will differ significantly by focusing on building a Markov decision process that does not require extensive reverse engineering of the game’s random number generation. Instead, it will aim to make decisions based on probabilistic modeling of state transitions and outcomes.\n",
    "\n",
    "## A More Probabilistic Approach  \n",
    "\n",
    "For each segment of the game, a probabilistic method will be employed to attempt to progress through it successfully. In the inspiration video, a combination of statistics and basic probability is used to identify outliers, such as the longest possible duration of a battle or the maximum number of encounters in a specific grass patch.  \n",
    "\n",
    "My approach will lean more toward reinforcement learning principles, primarily utilizing Markov decision processes (MDPs). I find MDPs particularly compelling and plan to use them extensively to model and solve decision-making problems within the game. However, my methodology will remain flexible—if I encounter alternative approaches during the course of my research that appear promising, I will consider and potentially incorporate them into my analysis.\n",
    "\n",
    "### On Model Generalization  \n",
    "\n",
    "Each model designed troughout this study will be made to be as general-purpose as possible. For instance, a single model will handle overworld exploration rather than creating separate models for specific areas or tasks. This approach is intended to maximize efficiency and general applicability within the game's framework. \n",
    "\n",
    "However, if creating a broadly generalized model for broader task completion proves impractical within the given timeframe, I will adopt a \"divide and conquer\" strategy. In this case, larger problems will be divided into smaller, more manageable subproblems, each addressed by its own specialized model. This fallback approach ensures progress remains achievable while maintaining focus on the overall objective.\n",
    "\n",
    "### Experimental approach\n",
    "\n",
    "TODO: describe the use of experiments, of which a summery of what is done + their results will be added to this document. Experiments will be left intact for people to read into if desireable.\n",
    "\n",
    "## The Goal of This Study  \n",
    "\n",
    "The primary goal of this study is to **create a probabilistic model that learns to play Pokémon Platinum**. This involves leveraging Markov decision processes or similar probabilistic frameworks to model and solve various challenges encountered in the game.  \n",
    "\n",
    "### Minimal Viable Product (MVP)  \n",
    "The minimum objective is to develop a model capable of learning how to engage in battles and achieve victory. The precise definition of \"winning\" in this context will be refined as the study progresses, incorporating factors such as efficiency, success rate, and adaptability.  \n",
    "\n",
    "### Extended Goals  \n",
    "If time permits, the study will also explore the development of an exploratory model designed to navigate the overworld. This model would aim to traverse the game world efficiently and interact with various game elements, providing a more comprehensive framework for automated gameplay.  \n",
    "\n",
    "By balancing these objectives, the study seeks to demonstrate the feasibility and effectiveness of probabilistic models in addressing the complex decision-making tasks inherent to Pokémon Platinum.\n",
    "\n",
    "### Gradually Increasing the Model's Goal Difficulty  \n",
    "\n",
    "The difficulty of the model's objectives will be increased incrementally as the agent demonstrates successful training and proficiency at simpler tasks. This step-by-step approach ensures that the model builds a solid foundation of skills before tackling more complex challenges.  \n",
    "\n",
    "For example, initial tasks may focus on basic decision-making, such as selecting effective moves during battles or navigating straightforward overworld paths. Once the model achieves consistent success in these areas, the complexity of the tasks will gradually increase to include:  \n",
    "- Optimizing strategies for tougher battles, such as those involving type advantages or multi-stage opponents.  \n",
    "- Navigating more intricate overworld segments with branching paths or hazards.  \n",
    "- Managing resources like healing items or determining when to retreat to a Pokémon Center.  \n",
    "\n",
    "This progressive approach allows the model to adapt and improve over time, ensuring it is equipped to handle increasingly difficult scenarios. Additionally, this structure provides clear milestones for measuring the model’s success throughout its development.  \n",
    "\n",
    "## Research Questions  \n",
    "\n",
    "To complement the goal of creating a probabilistic model that plays Pokémon Platinum, I devised the following research questions to guide me toward a viable solution:  \n",
    "\n",
    "1. **What are popular (both old and new) reinforcement learning approaches?**  \n",
    "   - How do these approaches compare in terms of their strengths and weaknesses?  \n",
    "   - Are there supporting methods, such as statistical techniques or others, that could enhance the effectiveness of reinforcement learning?  \n",
    "\n",
    "2. **How can Markovian decision processes be implemented in Python?**  \n",
    "   - What tools, libraries, or frameworks are available to assist in programming Markovian decision processes?  \n",
    "\n",
    "3. **How can we efficiently simulate Pokémon Platinum?**  \n",
    "   - What does \"efficiency\" entail in this context, particularly regarding time and computational complexity (and potentially space complexity)?  \n",
    "   - What existing software products or tools are available for this purpose, and how can they be utilized or adapted?  \n",
    "\n",
    "These questions aim to provide a structured framework for addressing the theoretical and practical challenges involved in creating a probabilistic model for gameplay. They span foundational research, technical implementation, and performance optimization, ensuring a comprehensive approach to the study.\n",
    "\n",
    "## On source collection\n",
    "\n",
    "TODO: Describe that this study relly's heavilly on community driven documentation when it comes to research about the pokémon game. These sources will be cross refrenced as to verify their truthfullness\n",
    "\n",
    "FEEDBACK: hierbij is het vooral belangrijk dat je academische bronnen voor DETH wiskunde gberuikt, pokemon bronnen neem ik voor lief"
   ]
  },
  {
   "cell_type": "markdown",
   "metadata": {},
   "source": [
    "## Domain understanding\n",
    "\n",
    "TODO: write a short paragraph explaining what pokémon is by giving a brief summery of its history and then explaining where this research links to pokémon. \n",
    "\n",
    "### Manga, Anime and (card) Game(s)\n",
    "\n",
    "TODO: write how pokémon developed over time from a manga to whatever\n",
    "\n",
    "### About the games\n",
    "\n",
    "TODO: write how the traditional games developed, not going into detail about spin off games, starting at pokémon red and green up to black and white 2 (it continues but I have no experience with these games, and going into their details is not of added value to this domain understanding)\n",
    "\n",
    "### A quick intro to the Gen. 4 games\n",
    "\n",
    "TODO: write that from here on the domain understanding is tailered specificly towards generation 4 as thats what this study is tailered towards.\n",
    "\n",
    "TODO: write a short intro explaining that starting the game, go trough some dialouge, choose a pokémon after which you have your first battle. Also describe that details about battleing will be done in the definitions chapter.\n",
    "\n",
    "### A perfect information game\n",
    "\n",
    "TODO: write that everything about the game is extensivly documented online. paired with that fact, as long as a person has read access to the games state (stored in memory), they can retrieve information not being displayed on screen (like hidden pokémon stats), making pokémon a perfect information game. This knowledge will at first not be utilized during training, as we want the agents to behave preferably like a normal human, which would not have this perfect infromation before hand. But we will not be excluding this knowledge entierly, as it might proof usefull.\n",
    "\n",
    "### What is a Pokémon?\n",
    "\n",
    "When stating the word pokémon, people will often times have a intuitive definition of what that means. Usually people will think of their favorite or the most commonly known pokémen, which is often regarded as being Pickachu.\n",
    "\n",
    "TODO insert image of pickachu\n",
    "\n",
    "*Figure 1: an image of pickachu, often regarded as the most comonly known pokémon as its the mascot of the company*\n",
    "\n",
    "A more formal, mathimatical definition of what a pokémon is will be required to perform studies on them. This definition will be provided later in this study."
   ]
  },
  {
   "cell_type": "markdown",
   "metadata": {},
   "source": [
    "## Some definitions before continuing\n",
    "\n",
    "Troughout this research, I will be refering to specific words of which their definitions can be found in this chapter.\n",
    "\n",
    "### Markov Decision Processes\n",
    "\n",
    "> A **Markov decision process** is a 4-tuple $(S, A, P_a, R_a)$, where:\n",
    "> \n",
    "> - $( S )$ is a set of states called the **state space**. The state space may be discrete or continuous, like the set of real numbers.\n",
    "> - $( A )$ is a set of actions called the **action space** (alternatively, $A_s$ is the set of actions available from state $s$). As for state, this set may be discrete or > continuous.\n",
    "> - $P_a(s, s')$ is, on an intuitive level, the **probability** that action $a$ in state $s$ at time $t$ will lead to state $s'$ at time $t+1$. \n",
    "> - A policy function $\\pi$ is a (potentially probabilistic) mapping from state space $( S )$ to action space $( A )$. \n",
    "<!-- In general, this probability > transition is defined to satisfy:\n",
    "> \n",
    ">   $$\n",
    ">   \\Pr(s_{t+1} \\in S' \\mid s_t = s, a_t = a) = \\int_{S'} P_a(s, s') \\, ds',\n",
    ">   $$\n",
    "> \n",
    ">   for every $S' \\subseteq S$ measurable. In case the state space is discrete, the integral is intended with respect to the counting measure, simplifying as\n",
    "> \n",
    ">   $$\n",
    ">   P_a(s, s') = \\Pr(s_{t+1} = s' \\mid s_t = s, a_t = a).\n",
    ">   $$\n",
    "> \n",
    ">   If $S \\subseteq \\mathbb{R}^d$, the integral is usually taken with respect to the Lebesgue measure.\n",
    "> \n",
    "> - $R_a(s, s')$ is the **immediate reward** (or expected immediate reward) received after transitioning from state $s$ to state $s'$, due to action $a$.\n",
    "> -->\n",
    "\n",
    "Reference: [Wikipedia's definition of a Markov Decision Process](https://web.archive.org/web/20241114035948/https://en.wikipedia.org/wiki/Markov_decision_process). Definition matches AP-DETH course slides.\n",
    "\n",
    "FEEDBACK: waarom gebruik je het boek niet?"
   ]
  },
  {
   "cell_type": "markdown",
   "metadata": {},
   "source": [
    "### Strings\n",
    "\n",
    "> A string is a sequence of characters.\n",
    "> - TODO: find a formal mathematical definition of a string (list comprehension?)\n",
    ">   - TODO: ensure the definition includes logical equivelance ($\\equiv$) for strings\n",
    "> - $labelencode$ is a function on any set of strings $s$, such that:\n",
    ">   - $labelencode(s) \\implies \\{ x_1, x_2, ..., x_n \\}$\n",
    ">   - $n = |s|$\n",
    ">   - $x \\in \\mathbb{N}$"
   ]
  },
  {
   "cell_type": "markdown",
   "metadata": {},
   "source": [
    "### Function on tuple with string elements to ordered set\n",
    "\n",
    "> Their exists a function $f(x)$ where $x$ is a tuple, which results in an ordered set of strings $y$ where:\n",
    "> - $|y| = |\\{ i: x_i \\equiv string \\}|$"
   ]
  },
  {
   "cell_type": "markdown",
   "metadata": {},
   "source": [
    "### Pokémon game definition's\n",
    "\n",
    "The game itself, paired with online community driven sources, provide all the necesarry information to define pokémon's in a mathimatical fashion."
   ]
  },
  {
   "cell_type": "markdown",
   "metadata": {},
   "source": [
    "#### Types\n",
    "\n",
    "<!-- Reasoning for chosing a tuple and not a set is that later on, being able to refrence types by numbers becomes important during programming. To refrence a type by a number means we order is important, thus the choice for a tuple over a set -->\n",
    "> **Types** $T$ is a constant 18-tuple containing the following strings\n",
    "> - $T_{0}$  = none\n",
    "> - $T_{1}$  = normal\n",
    "> - $T_{2}$  = fire\n",
    "> - $T_{3}$  = water\n",
    "> - $T_{4}$  = electric\n",
    "> - $T_{5}$  = grass\n",
    "> - $T_{6}$  = ice\n",
    "> - $T_{7}$  = fighting\n",
    "> - $T_{8}$  = poison\n",
    "> - $T_{9}$  = ground\n",
    "> - $T_{10}$ = flying\n",
    "> - $T_{11}$ = psychich\n",
    "> - $T_{12}$ = bug\n",
    "> - $T_{13}$ = rock\n",
    "> - $T_{14}$ = ghost\n",
    "> - $T_{15}$ = dragon\n",
    "> - $T_{16}$ = dark\n",
    "> - $T_{17}$ = steel"
   ]
  },
  {
   "cell_type": "markdown",
   "metadata": {},
   "source": [
    "#### Moves\n",
    "\n",
    "> A singular **move** $m$ is a 7-tuple $(name, type, category, power, accuracy, pp, effect)$, where:\n",
    "> - $name$ is the name of the move as a string.\n",
    "> - $type \\in T$ is the type of the move.\n",
    "> - $category \\in \\{ physical, special, status \\}$ is the category of the move.\n",
    "> - $power \\in \\mathbb{N}$ is the power of the move.\n",
    "> - $accuracy \\in \\mathbb{N}$ is the accuracy of the move.\n",
    "> - $pp \\in \\mathbb{N}$ is the power points of the move.\n",
    "> - $effect$ is the effect of the move as a string.\n",
    ">\n",
    "> The set of moves $\\mathbb{M}$ in pokemon platinum is constant and known beforehand. A list of all moves can be found at [Psypokes](http://www.psypokes.com/dpphgss/attacks.php).\n",
    ">\n",
    "> TODO: write their is an empthy move in M"
   ]
  },
  {
   "cell_type": "markdown",
   "metadata": {},
   "source": [
    "#### Abilities\n",
    "\n",
    "> **Abilities** $\\mathbb{A}$ is a set of all abilities. A list of all abilities can be found at [Psypokes](http://www.psypokes.com/dpphgss/abilities.php).\n",
    ">\n",
    "> TODO: research if abilities are constant or if they can change during the game  \n",
    "> TODO: research different types of abilities and define functions that can be used to determine if an ability is of a certain type"
   ]
  },
  {
   "cell_type": "markdown",
   "metadata": {},
   "source": [
    "#### Items\n",
    "\n",
    "> **Items** $\\mathbb{I}$ is a set of all items available in pokemon platinum. A list of all items can be found at [Serebii.net](https://www.serebii.net/platinum/items.shtml).\n",
    "> \n",
    "> - item $x \\in \\mathbb{I}$ is a 3-tuple $(name, function, type)$, where:\n",
    ">   - $name$ is the name of the item as a string.\n",
    ">   - $function$ is the function $f$ of item $x$ such that when used, $f$ either does or does not results in a state change.\n",
    ">       - The item $type$ dictates the resulting change in state.\n",
    ">   - $type$ is the type of the item.\n",
    ">     - $type \\in \\{ healing \\}$ dictates the change in state of item $x$\n",
    ">     - \n",
    "\n",
    "FEEDBACK:\n",
    "funtion ( name ) -> function that changes state <- map in python, this is enough, you do not need the type"
   ]
  },
  {
   "cell_type": "markdown",
   "metadata": {},
   "source": [
    "#### Status Effects\n",
    "\n",
    "> Status effects $\\mathbb{E}$ is a 5-tuple $( poisend, burned, paralyzed, asleep, frozen )$.\n",
    "> "
   ]
  },
  {
   "cell_type": "markdown",
   "metadata": {},
   "source": [
    "#### Pokémon's\n",
    "\n",
    "> A **pokémon** $p$ is a 14-tuple $(hp, atk, def, spatk, spdef, spd, ability, t_1, t_2, m_1, m_2, m_3, m_4, status)$, where:\n",
    "> \n",
    "> - $hp, atk, def, spatk, spdef, spd \\in \\mathbb{N}$ are the pokémon's stats, those being: hit points, physical attack power, physical defensive power, special attack power, special defensive power and speed respectivly.\n",
    "> - ability $x \\in \\mathbb{A}$\n",
    "> - $t_1, t_2 \\in T$ are the pokémon's type's. \n",
    ">   - $monotype$ is a function on $p$ that results in a boolean value.\n",
    ">   - A pokemon $p$ is considered to be $monotype(p) \\iff p_{t_2} = T_0$ and dual type otherwise.\n",
    ">   - $partialtype$ is a function on $p$ that results in a boolean value.\n",
    ">   - A pokemon $p$ is considered to be $partialtype(p, T_i) \\iff p_{t_1} = T_i \\lor p_{t_2} = T_i$.\n",
    "> - $m_1, m_2, m_3, m_4 \\in \\mathbb{M}$ are the pokémon's moves.\n",
    "> - $status \\in \\mathbb{E}$"
   ]
  },
  {
   "cell_type": "markdown",
   "metadata": {},
   "source": [
    "#### Effectiveness\n",
    "> Effectiveness of a move $m$ against a pokémon $p$ is a function $E(m, p) \\in \\{0, 0.5, 1, 2, 4\\}$, where:\n",
    "> - The value is dictated by the type chart $C$, which is a 18x18 matrix where $C_{i, j}$ is the effectiveness of type $T_i$ against type $T_j$.\n",
    ">   - Here, $i$ is used for row indexing and $j$ for column indexing\n",
    "> - The value of effectiveness is compared to both of $p$'s type's and added together.\n",
    "> - For example:\n",
    ">   - If $p_{t1} = grass$, $p_{t2} = ice$ and $m_t = fire$, then $E(m, p) = C_{m_T, p_{t1}} + C_{m_T, p_{t2}} = C_{2, 5} + C_{2, 6} = 2 + 2 = 4$ \n",
    ">\n",
    "> ![generation 4 type chart](https://img.pokemondb.net/images/typechart-gen2345.png)\n",
    ">\n",
    "> *Figure N: a visual representation of the generation 4 type chart as provided by [pokemondb.net](https://pokemondb.net/type/old)*"
   ]
  },
  {
   "cell_type": "markdown",
   "metadata": {},
   "source": [
    "## ...\n",
    "\n",
    "TODO: find clever title for this chapter in which I define my state space, action space and reward function\n",
    "\n",
    "### State space\n",
    "\n",
    "...\n",
    "TODO: describe that the state space will be setup based on the information available to a player whilst battleing\n",
    "\n",
    "### Action space\n",
    "\n",
    "...\n",
    "TODO: describe that the action space for battleing agent will be derived from the fundemental action space (see notes)"
   ]
  },
  {
   "cell_type": "markdown",
   "metadata": {},
   "source": [
    "## The battleing agent\n",
    "\n",
    "TODO: work out timo's tip bellow in a proper paragraph \n",
    "for an agent to learn a strategy, it needs to be rewarded for a set of sequential moves (temperal difference learning), otherwise it wont learn a strategy but just the current best thing to do in the state. To win you need to perform a sequence of actions.\n",
    "\n",
    "### Battleing Environment\n",
    "\n",
    "TODO: describe the fact that the environment essentially has 2 states it can be in, one where the model can make choices and one where the battle is taking place and the choice of the model + the opponent are being played out\n",
    "\n",
    "### ..."
   ]
  },
  {
   "cell_type": "markdown",
   "metadata": {},
   "source": [
    "THIS BLOCK CONTAINS A REDUNTANT CHAPTER\n",
    "<!-- ### Overworld Locations for Agent Traversal -->\n",
    "<!-- TODO: write a code block that parcess this file, reads this block, parces the table bellow and for each row: create a markdown cell with the title based on the id and name of the environment + a python cell bellow with some default code -->\n",
    "<!-- Environments cell GUID: 7f1582d2-2e3e-4526-b3a1-ff8cace214bb -->\n",
    "\n",
    "<!-- TODO: descsribe the use of images from bulbapedia pared with the interactive map by William Sullivan to create matrixes representing the 'maze' that the agent needs to traverse in a given point in time -->\n",
    "\n",
    "<!-- The table bellow contains ... TODO: describe what this table contains. -->\n",
    " \n",
    "<!-- | ID   | Name        | Description |\n",
    "|---   |---          |---          |\n",
    "| 0001 | Player Room | Second floor of the players house. Simultainiously, its room the player starts in on a new game. | -->"
   ]
  },
  {
   "cell_type": "markdown",
   "metadata": {},
   "source": [
    "## Sources\n",
    "\n",
    "https://www.youtube.com/watch?v=EqzghgtJ1Is\n",
    "\n",
    "https://www.youtube.com/watch?v=jNMWkD5VsZ8\n",
    "\n",
    "https://web.archive.org/web/20241114035948/https://en.wikipedia.org/wiki/Markov_decision_process\n",
    "\n",
    "https://web.archive.org/web/20241128050046/https://en.wikipedia.org/wiki/Pok%C3%A9mon_(video_game_series)\n",
    "\n",
    "https://pkmnmap4.web.app/\n",
    "\n",
    "http://web.archive.org/web/20241118075715/https://bulbapedia.bulbagarden.net/wiki/Category:Platinum_locations\n",
    "\n",
    "http://web.archive.org/web/20241126192248/https://bulbapedia.bulbagarden.net/wiki/Damage\n",
    "\n",
    "https://github.com/smogon/damage-calc (web version https://calc.pokemonshowdown.com/?gen=4)\n",
    "\n",
    "https://stable-baselines.readthedocs.io/en/master/"
   ]
  }
 ],
 "metadata": {
  "kernelspec": {
   "display_name": "deth",
   "language": "python",
   "name": "python3"
  },
  "language_info": {
   "codemirror_mode": {
    "name": "ipython",
    "version": 3
   },
   "file_extension": ".py",
   "mimetype": "text/x-python",
   "name": "python",
   "nbconvert_exporter": "python",
   "pygments_lexer": "ipython3",
   "version": "3.13.0"
  }
 },
 "nbformat": 4,
 "nbformat_minor": 2
}
